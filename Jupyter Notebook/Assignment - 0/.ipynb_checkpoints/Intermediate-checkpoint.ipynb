{
 "cells": [
  {
   "cell_type": "code",
   "execution_count": 2,
   "id": "9a836846",
   "metadata": {},
   "outputs": [
    {
     "name": "stdout",
     "output_type": "stream",
     "text": [
      "please enter your name:Sarwad Hasan Siddiqui\n",
      "Hello Sarwad Hasan Siddiqui\n"
     ]
    }
   ],
   "source": [
    "# 1. A function called greed that will take name a parameter and greet\n",
    "\n",
    "def greet(name):\n",
    "    print(f\"Hello {name}\")\n",
    "\n",
    "name = input(\"please enter your name:\")\n",
    "greet(name)"
   ]
  },
  {
   "cell_type": "code",
   "execution_count": 5,
   "id": "71d65334",
   "metadata": {},
   "outputs": [
    {
     "name": "stdout",
     "output_type": "stream",
     "text": [
      "Please enter a number:54\n",
      "Please enter a number:64\n",
      "The sum of those two numbers are: 118.0\n"
     ]
    }
   ],
   "source": [
    "# 2. A function called add that takes two numbers as their parameter and output their sum\n",
    "\n",
    "def add(num1,num2):\n",
    "    print(f\"The sum of those two numbers are: {num1 + num2}\")\n",
    "    \n",
    "num1 = float(input(\"Please enter a number:\"))\n",
    "num2 = float(input(\"Please enter a number:\"))\n",
    "add(num1,num2)"
   ]
  },
  {
   "cell_type": "code",
   "execution_count": 9,
   "id": "3a464b34",
   "metadata": {},
   "outputs": [
    {
     "name": "stdout",
     "output_type": "stream",
     "text": [
      "Please enter a number:43\n",
      "Please enter a number:21\n",
      "The sum of two numbers is 64.0\n",
      "The difference of two numbers is 22.0\n",
      "The product of two numbers is 903.0\n",
      "The remainder of two numbers is 1.0\n"
     ]
    }
   ],
   "source": [
    "# 3. A function called calc that will take two numbers as their parameter and output their sum,difference,product and remainder\n",
    "\n",
    "def calc(num1,num2):  # declaring the function prototype and definition\n",
    "    sum = num1+num2   # sum of two numbers\n",
    "    diff = abs(num1-num2) # diff of two numbers\n",
    "    prod = num1*num2      # product of two numbers\n",
    "    rem = num1 % num2     # remainder of two numbers\n",
    "    \n",
    "    #prints the results\n",
    "    print(f\"The sum of two numbers is {sum}\")\n",
    "    print(f\"The difference of two numbers is {diff}\")\n",
    "    print(f\"The product of two numbers is {prod}\")\n",
    "    print(f\"The remainder of two numbers is {rem}\")\n",
    "    \n",
    "num1 = float(input(\"Please enter a number:\")) # take a number as input\n",
    "num2 = float(input(\"Please enter a number:\")) # take another number as input\n",
    "calc(num1,num2) # calling the function by giving the appropriate prototypes"
   ]
  },
  {
   "cell_type": "code",
   "execution_count": 14,
   "id": "a2547130",
   "metadata": {},
   "outputs": [
    {
     "name": "stdout",
     "output_type": "stream",
     "text": [
      "Please enter the radius of the circle:3\n",
      "The area of the circle is 28.274333882308138\n"
     ]
    }
   ],
   "source": [
    "# 4. A function called area which will take the radius of the circle as its parameter and output the area of the circle\n",
    "\n",
    "import math # imports the library where pi is located\n",
    "\n",
    "def area(radius):\n",
    "    ar = math.pi * pow(radius,2) # calculates the area using the formula\n",
    "    print(f\"The area of the circle is {ar}\") # prints the formula\n",
    "\n",
    "radius = float(input(\"Please enter the radius of the circle:\")) # take input from the user\n",
    "area(radius)"
   ]
  },
  {
   "cell_type": "code",
   "execution_count": 32,
   "id": "367b63a5",
   "metadata": {},
   "outputs": [
    {
     "name": "stdout",
     "output_type": "stream",
     "text": [
      "Please enter a year:1876\n",
      "1876 is a leap year\n"
     ]
    }
   ],
   "source": [
    "# 5. A code that checks if the given year is leap year or not\n",
    "\n",
    "def leapyear(year):  # a function which checks if its a leap year or not\n",
    "    if (year % 4 == 0): # if the year is divisible by 4 or not\n",
    "        if((year % 100 == 0)): # if the year is also divisible by 100\n",
    "            if(year % 400 == 0): # if it is divisible by both 100 and 400, then it's a leap year\n",
    "                print(f\"{year} is a leap year\")\n",
    "            else:                  # if it not divisible by 400, then it's not a leap year\n",
    "                print(f\"{year} is not a leap year\")\n",
    "        else:                # if it not divisible by 100, then it's a leap year\n",
    "            print(f\"{year} is a leap year\")\n",
    "    else:              # if it's not divisible by 4 then it's not a leap year\n",
    "        print(f\"{year} is not a leap year\")\n",
    "\n",
    "year = int(input(\"Please enter a year:\")) # takes the year as input\n",
    "leapyear(year) # passing the year as an argument in the function"
   ]
  },
  {
   "cell_type": "code",
   "execution_count": 35,
   "id": "569e1363",
   "metadata": {},
   "outputs": [
    {
     "name": "stdout",
     "output_type": "stream",
     "text": [
      "Please enter a number:3\n",
      "Please enter a number:3\n",
      "Please enter a number:3\n",
      "3.0 is the maximum\n",
      "3.0 is the minimum\n"
     ]
    }
   ],
   "source": [
    "# 6. a program which finds the maximum and minimum of three numbers\n",
    "\n",
    "def max(num1,num2,num3): # a function checking the maximum\n",
    "    if(num1 >= num2 and num1 >= num3):\n",
    "        print(f\"{num1} is the maximum\")\n",
    "    elif(num2 >= num1 and num2 >= num3):\n",
    "        print(f\"{num2} is the maximum\")\n",
    "    else:\n",
    "        print(f\"{num3} is the maximum\")\n",
    "        \n",
    "def min(num1,num2,num3): # a function checking the minimum\n",
    "    if(num1 <= num2 and num1 <= num3):\n",
    "        print(f\"{num1} is the minimum\")\n",
    "    elif(num2 <= num1 and num2 <= num3):\n",
    "        print(f\"{num2} is the maximum\")\n",
    "    else:\n",
    "        print(f\"{num3} is the minimum\")\n",
    "    \n",
    "# taking inputs\n",
    "num1 = float(input(\"Please enter a number:\"))\n",
    "num2 = float(input(\"Please enter a number:\"))\n",
    "num3 = float(input(\"Please enter a number:\"))\n",
    "\n",
    "# calling the functions\n",
    "max(num1,num2,num3)\n",
    "min(num1,num2,num3)"
   ]
  },
  {
   "cell_type": "code",
   "execution_count": 42,
   "id": "69bd6e26",
   "metadata": {},
   "outputs": [
    {
     "name": "stdout",
     "output_type": "stream",
     "text": [
      "please enter a number:1\n",
      "please enter a number:2\n",
      "please enter a number:3\n",
      "please enter a number:4\n",
      "please enter a number:5\n",
      "please enter a number:6\n",
      "please enter a number:7\n",
      "please enter a number:8\n",
      "please enter a number:9\n",
      "7.0\n"
     ]
    }
   ],
   "source": [
    "# 7. taking an array with 9 elements and printing the 7th element using indexing\n",
    "\n",
    "arr = []  # declaring an empty array\n",
    "for i in range(0,9):  # taking input in the array using a for loop\n",
    "    arr.append(float(input(\"please enter a number:\")))\n",
    "print(arr[6]) # printing the 7th element, here it's 6 because indexing starts from 0"
   ]
  },
  {
   "cell_type": "code",
   "execution_count": 44,
   "id": "4c9343d2",
   "metadata": {},
   "outputs": [
    {
     "name": "stdout",
     "output_type": "stream",
     "text": [
      "Please append a number:4\n",
      "[1, 2, 3, 4]\n"
     ]
    }
   ],
   "source": [
    "# 8. Defining an array with 3 elements and appending an element to the array\n",
    "\n",
    "arr = [1,2,3]\n",
    "arr.append(int(input(\"Please append a number:\")))\n",
    "\n",
    "print(arr)"
   ]
  },
  {
   "cell_type": "code",
   "execution_count": 47,
   "id": "90465c00",
   "metadata": {},
   "outputs": [
    {
     "name": "stdout",
     "output_type": "stream",
     "text": [
      "9\n",
      "8\n",
      "7\n",
      "6\n",
      "5\n",
      "4\n",
      "3\n",
      "2\n",
      "1\n"
     ]
    }
   ],
   "source": [
    "# 9. Taking an array or list and reversing it and printing it\n",
    "\n",
    "arr = [1,2,3,4,5,6,7,8,9] # declaring the array\n",
    "\n",
    "for i in range(len(arr)-1,-1,-1): # a trick is to just printing the array in reverse without actually reversing it\n",
    "    print(arr[i])"
   ]
  },
  {
   "cell_type": "code",
   "execution_count": 48,
   "id": "528f67c4",
   "metadata": {},
   "outputs": [
    {
     "name": "stdout",
     "output_type": "stream",
     "text": [
      "[9, 8, 7, 6, 5, 4, 3, 2, 1]\n"
     ]
    }
   ],
   "source": [
    "# 10. Finding the most efficient way to reverse an array\n",
    "\n",
    "arr = [1,2,3,4,5,6,7,8,9]  # declaring the array\n",
    "\n",
    "## the most efficient way to reverse an array is to swap \n",
    "# the elements of the array located on each side of the array\n",
    "# We do this by taking the length and half of it, and running\n",
    "# a for loop to iterate through every item until the element\n",
    "## located in the half index, and swap them.\n",
    "\n",
    "length = len(arr)\n",
    "half = length // 2\n",
    "\n",
    "for i in range(0,half,1):\n",
    "    temp = arr[i]\n",
    "    arr[i] = arr[length - i - 1]\n",
    "    arr[length - i - 1] = temp\n",
    "\n",
    "print(arr) # printing the array"
   ]
  },
  {
   "cell_type": "code",
   "execution_count": 3,
   "id": "d5f243ff",
   "metadata": {},
   "outputs": [
    {
     "name": "stdout",
     "output_type": "stream",
     "text": [
      "Please enter something:111222\n",
      "It's not palindrome\n"
     ]
    }
   ],
   "source": [
    "# 11. Checking Palindrome\n",
    "\n",
    "var = input(\"Please enter something:\")\n",
    "length = len(var)\n",
    "count = 0\n",
    "\n",
    "for i in range(0,length//2,1):\n",
    "    if(var[i]==var[length-i-1]):\n",
    "        count+=1\n",
    "\n",
    "if (count == length//2):\n",
    "    print(\"The given input is palindrome\")\n",
    "else:\n",
    "    print(\"It's not palindrome\")"
   ]
  },
  {
   "cell_type": "code",
   "execution_count": 8,
   "id": "f88199dd",
   "metadata": {},
   "outputs": [
    {
     "name": "stdout",
     "output_type": "stream",
     "text": [
      "0\n"
     ]
    }
   ],
   "source": [
    "# 12. 2D array with 3 columns and 4 rows. Accessing the element of the 2nd columns 3rd row using indexing\n",
    "\n",
    "col, row = 3, 4\n",
    "arr = [[0 for x in range(col)] for y in range(row)]\n",
    "print(arr[2][1])"
   ]
  },
  {
   "cell_type": "code",
   "execution_count": 10,
   "id": "4617c053",
   "metadata": {},
   "outputs": [
    {
     "name": "stdout",
     "output_type": "stream",
     "text": [
      "[[1, 0, 0], [0, 2, 0], [0, 0, 3]]\n"
     ]
    }
   ],
   "source": [
    "# 13. 2D square array\n",
    "\n",
    "col1,row1 = 3,3\n",
    "arr1 = [[0 for x in range(col1)] for y in range(row1)]\n",
    "arr1[0][0],arr1[1][1],arr1[2][2]=1,2,3\n",
    "print(arr1)\n",
    "\n",
    "col2,row2 = 4,4\n",
    "arr2 = [[0 for x in range(col2)] for y in range(row2)]\n",
    "arr2[0][0],arr2[1][1],arr2[2][2],arr2[3][3]=1,2,3,4\n",
    "\n"
   ]
  },
  {
   "cell_type": "code",
   "execution_count": 11,
   "id": "4781462b",
   "metadata": {},
   "outputs": [
    {
     "name": "stdout",
     "output_type": "stream",
     "text": [
      "I am an aspiring astronomer!\n",
      "I am an aspiring astronomer!\n",
      "I am an aspiring astronomer!\n",
      "I am an aspiring astronomer!\n",
      "I am an aspiring astronomer!\n"
     ]
    }
   ],
   "source": [
    "# 14. printing for loop\n",
    "\n",
    "for i in range(0,120,1):\n",
    "    print(\"I am an aspiring astronomer!\")\n",
    "    "
   ]
  },
  {
   "cell_type": "code",
   "execution_count": 12,
   "id": "0a2738ad",
   "metadata": {},
   "outputs": [
    {
     "name": "stdout",
     "output_type": "stream",
     "text": [
      "1\n",
      "2\n",
      "3\n",
      "4\n",
      "5\n",
      "6\n",
      "7\n",
      "8\n",
      "9\n",
      "10\n",
      "11\n",
      "12\n",
      "13\n",
      "14\n",
      "15\n",
      "16\n",
      "17\n",
      "18\n",
      "19\n",
      "20\n",
      "21\n",
      "22\n",
      "23\n",
      "24\n",
      "25\n",
      "26\n",
      "27\n",
      "28\n",
      "29\n"
     ]
    }
   ],
   "source": [
    "# 15. printing numbers from 1 to 29\n",
    "\n",
    "for i in range(1,30,1):\n",
    "    print(i)"
   ]
  },
  {
   "cell_type": "code",
   "execution_count": 14,
   "id": "b5e9ad45",
   "metadata": {},
   "outputs": [
    {
     "name": "stdout",
     "output_type": "stream",
     "text": [
      "1\n",
      "3\n",
      "5\n",
      "7\n",
      "9\n",
      "11\n",
      "13\n",
      "15\n",
      "17\n",
      "19\n",
      "21\n",
      "23\n",
      "25\n",
      "27\n",
      "29\n",
      "31\n",
      "33\n",
      "35\n",
      "37\n",
      "39\n",
      "41\n",
      "43\n",
      "45\n",
      "47\n",
      "49\n",
      "51\n",
      "53\n",
      "55\n",
      "57\n"
     ]
    }
   ],
   "source": [
    "# 16. printing first 29 odd numbers\n",
    "\n",
    "count = 29\n",
    "i = 0\n",
    "while(1):\n",
    "    if(i%2!=0):\n",
    "        print(i)\n",
    "        count-=1\n",
    "    i+=1\n",
    "    if(count==0):\n",
    "        break\n",
    "        "
   ]
  },
  {
   "cell_type": "code",
   "execution_count": 15,
   "id": "42a10d8d",
   "metadata": {},
   "outputs": [
    {
     "name": "stdout",
     "output_type": "stream",
     "text": [
      "1\n",
      "3\n",
      "5\n",
      "7\n",
      "9\n",
      "11\n",
      "13\n",
      "15\n",
      "17\n",
      "19\n",
      "21\n",
      "23\n",
      "25\n",
      "27\n",
      "29\n"
     ]
    }
   ],
   "source": [
    "# 17. printing all odd numbers from 1 to 29\n",
    "\n",
    "for i in range(0,30,1):\n",
    "    if(i%2!=0):\n",
    "        print(i)"
   ]
  },
  {
   "cell_type": "code",
   "execution_count": 16,
   "id": "2c3d5831",
   "metadata": {},
   "outputs": [
    {
     "name": "stdout",
     "output_type": "stream",
     "text": [
      "1\n",
      "4\n",
      "9\n",
      "16\n",
      "25\n"
     ]
    }
   ],
   "source": [
    "# 18. printing squares of the first 5 numbers\n",
    "\n",
    "for i in range(1,6,1):\n",
    "    print(pow(i,2))"
   ]
  },
  {
   "cell_type": "code",
   "execution_count": 20,
   "id": "b0bd80ef",
   "metadata": {},
   "outputs": [
    {
     "name": "stdout",
     "output_type": "stream",
     "text": [
      "3 x 1: 3\n",
      "3 x 2: 6\n",
      "3 x 3: 9\n",
      "3 x 4: 12\n",
      "3 x 5: 15\n",
      "3 x 6: 18\n",
      "3 x 7: 21\n",
      "3 x 8: 24\n",
      "3 x 9: 27\n",
      "3 x 10: 30\n",
      "3 x 11: 33\n",
      "3 x 12: 36\n",
      "3 x 13: 39\n",
      "3 x 14: 42\n",
      "3 x 15: 45\n",
      "3 x 16: 48\n",
      "3 x 17: 51\n",
      "3 x 18: 54\n",
      "3 x 19: 57\n",
      "3 x 20: 60\n",
      "3 x 21: 63\n",
      "3 x 22: 66\n",
      "3 x 23: 69\n",
      "3 x 24: 72\n",
      "3 x 25: 75\n",
      "3 x 26: 78\n",
      "3 x 27: 81\n",
      "3 x 28: 84\n",
      "3 x 29: 87\n",
      "3 x 30: 90\n",
      "3 x 31: 93\n",
      "3 x 32: 96\n",
      "3 x 33: 99\n",
      "3 x 34: 102\n",
      "3 x 35: 105\n",
      "3 x 36: 108\n",
      "3 x 37: 111\n",
      "3 x 38: 114\n",
      "3 x 39: 117\n",
      "3 x 40: 120\n",
      "3 x 41: 123\n",
      "3 x 42: 126\n",
      "3 x 43: 129\n",
      "3 x 44: 132\n",
      "3 x 45: 135\n",
      "3 x 46: 138\n",
      "3 x 47: 141\n",
      "3 x 48: 144\n",
      "3 x 49: 147\n",
      "3 x 50: 150\n",
      "3 x 51: 153\n",
      "3 x 52: 156\n",
      "3 x 53: 159\n",
      "3 x 54: 162\n",
      "3 x 55: 165\n",
      "3 x 56: 168\n",
      "3 x 57: 171\n",
      "3 x 58: 174\n",
      "3 x 59: 177\n",
      "3 x 60: 180\n",
      "3 x 61: 183\n",
      "3 x 62: 186\n",
      "3 x 63: 189\n",
      "3 x 64: 192\n",
      "3 x 65: 195\n",
      "3 x 66: 198\n",
      "3 x 67: 201\n",
      "3 x 68: 204\n",
      "3 x 69: 207\n",
      "3 x 70: 210\n",
      "3 x 71: 213\n",
      "3 x 72: 216\n",
      "3 x 73: 219\n",
      "3 x 74: 222\n",
      "3 x 75: 225\n",
      "3 x 76: 228\n",
      "3 x 77: 231\n",
      "3 x 78: 234\n",
      "3 x 79: 237\n",
      "3 x 80: 240\n",
      "3 x 81: 243\n",
      "3 x 82: 246\n",
      "3 x 83: 249\n",
      "3 x 84: 252\n",
      "3 x 85: 255\n",
      "3 x 86: 258\n",
      "3 x 87: 261\n",
      "3 x 88: 264\n",
      "3 x 89: 267\n",
      "3 x 90: 270\n",
      "3 x 91: 273\n",
      "3 x 92: 276\n",
      "3 x 93: 279\n",
      "3 x 94: 282\n",
      "3 x 95: 285\n",
      "3 x 96: 288\n",
      "3 x 97: 291\n",
      "3 x 98: 294\n",
      "3 x 99: 297\n",
      "3 x 100: 300\n"
     ]
    }
   ],
   "source": [
    "# 19. printing the multiplication table of 3\n",
    "\n",
    "num = 3\n",
    "for i in range(1,101,1):\n",
    "    mult = num*i\n",
    "    print(f\"{num} x {i}: {mult}\")\n",
    "    "
   ]
  },
  {
   "cell_type": "code",
   "execution_count": 28,
   "id": "1d5cbc71",
   "metadata": {},
   "outputs": [
    {
     "name": "stdout",
     "output_type": "stream",
     "text": [
      "    *\n",
      "\n",
      "   ***\n",
      "\n",
      "  *****\n",
      "\n",
      " *******\n",
      "\n",
      "*********\n",
      "\n"
     ]
    }
   ],
   "source": [
    "# 20. printing a pyramid pattern\n",
    "\n",
    "import sys\n",
    "\n",
    "n = 5\n",
    "for i in range(1,6,1):\n",
    "    blank = n-i\n",
    "    for j in range(0,blank,1):\n",
    "        sys.stdout.write(\" \")\n",
    "    for k in range(1,2*i,1):\n",
    "        sys.stdout.write(\"*\")\n",
    "    print(\"\\n\")"
   ]
  },
  {
   "cell_type": "code",
   "execution_count": 30,
   "id": "f8c6d95a",
   "metadata": {},
   "outputs": [
    {
     "name": "stdout",
     "output_type": "stream",
     "text": [
      "5050\n"
     ]
    }
   ],
   "source": [
    "# 21.sum of 1+2+3+... series\n",
    "\n",
    "count = 101\n",
    "sum = 0\n",
    "for i in range(1,count,1):\n",
    "    sum+=i\n",
    "print(sum)"
   ]
  },
  {
   "cell_type": "code",
   "execution_count": 33,
   "id": "634aae0a",
   "metadata": {},
   "outputs": [
    {
     "name": "stdout",
     "output_type": "stream",
     "text": [
      "2601\n"
     ]
    }
   ],
   "source": [
    "# 22.sum of 1+3+5+... series\n",
    "\n",
    "count = 102\n",
    "sum = 0\n",
    "for i in range(1,count,2):\n",
    "    sum+=i\n",
    "print(sum)"
   ]
  },
  {
   "cell_type": "code",
   "execution_count": 2,
   "id": "462db581",
   "metadata": {},
   "outputs": [
    {
     "name": "stdout",
     "output_type": "stream",
     "text": [
      "Please enter a number:3\n",
      "Please enter a number:12\n",
      "The gcd of 3 and 12 is 3\n"
     ]
    }
   ],
   "source": [
    "# 23.determining gcd of two numbers\n",
    "\n",
    "def gcd(a,b):\n",
    "    if(a==0):\n",
    "        return b\n",
    "    else:\n",
    "        return gcd(b%a,a)\n",
    "\n",
    "num1=int(input(\"Please enter a number:\"))\n",
    "num2=int(input(\"Please enter a number:\"))\n",
    "print(f\"The gcd of {num1} and {num2} is {gcd(num1,num2)}\")"
   ]
  },
  {
   "cell_type": "code",
   "execution_count": 7,
   "id": "34687b13",
   "metadata": {},
   "outputs": [
    {
     "name": "stdout",
     "output_type": "stream",
     "text": [
      "Please enter a number:12\n",
      "Please enter a number:3\n",
      "The lcm of 12 and 3 is 12\n"
     ]
    }
   ],
   "source": [
    "# 24.determining lcm of two numbers\n",
    "\n",
    "def gcd(a,b):\n",
    "    if(a==0):\n",
    "        return b\n",
    "    else:\n",
    "        return gcd(b%a,a)\n",
    "\n",
    "def lcm(a,b):\n",
    "    lcm = int((a*b)/(gcd(a,b)))\n",
    "    return lcm\n",
    "\n",
    "num1=int(input(\"Please enter a number:\"))\n",
    "num2=int(input(\"Please enter a number:\"))\n",
    "print(f\"The lcm of {num1} and {num2} is {lcm(num1,num2)}\")\n"
   ]
  },
  {
   "cell_type": "code",
   "execution_count": 11,
   "id": "2c098ca4",
   "metadata": {},
   "outputs": [
    {
     "name": "stdout",
     "output_type": "stream",
     "text": [
      "Please enter a number:5\n",
      "The factorial of the number 5: 120\n"
     ]
    }
   ],
   "source": [
    "# 25.determining factorial\n",
    "\n",
    "def fact(a):\n",
    "    if(a==0):\n",
    "        return 1\n",
    "    else:\n",
    "        return a * fact(a-1)\n",
    "\n",
    "num=int(input(\"Please enter a number:\"))\n",
    "print(f\"The factorial of the number {num}: {fact(num)}\")\n"
   ]
  },
  {
   "cell_type": "code",
   "execution_count": 16,
   "id": "d7210b0a",
   "metadata": {},
   "outputs": [
    {
     "name": "stdout",
     "output_type": "stream",
     "text": [
      "T\n"
     ]
    }
   ],
   "source": [
    "# 26. head or tails\n",
    "\n",
    "import random\n",
    "\n",
    "def toss():\n",
    "    choice = random.randint(0,1)\n",
    "    return choice\n",
    "\n",
    "choice = toss()\n",
    "if(choice==0):\n",
    "    print(\"H\")\n",
    "else:\n",
    "    print(\"T\")"
   ]
  },
  {
   "cell_type": "code",
   "execution_count": 19,
   "id": "7b79562b",
   "metadata": {},
   "outputs": [
    {
     "name": "stdout",
     "output_type": "stream",
     "text": [
      "[0, 1, 1, 2, 3, 5, 8, 13, 21, 34, 55, 89, 144, 233, 377]\n"
     ]
    }
   ],
   "source": [
    "# 27.fibonacci numbers\n",
    "\n",
    "rang = 15\n",
    "fib=[0 for x in range(rang)]\n",
    "num=0\n",
    "fib[1]=1\n",
    "for i in range(2,15,1):\n",
    "    fib[i] = fib[i-1]+fib[i-2]\n",
    "\n",
    "print(fib)"
   ]
  },
  {
   "cell_type": "code",
   "execution_count": 21,
   "id": "3caa2732",
   "metadata": {},
   "outputs": [
    {
     "name": "stdout",
     "output_type": "stream",
     "text": [
      "[0, 1, 2, 3, 4, 5]\n",
      "[10, 8, 6, 4, 2, 0]\n"
     ]
    }
   ],
   "source": [
    "# 28.equation satisfaction\n",
    "\n",
    "x = 0\n",
    "y = 0\n",
    "x_arr=[]\n",
    "y_arr=[]\n",
    "i,j=0,0\n",
    "while(1):\n",
    "    while(1):\n",
    "        if((2*i+j)==10):\n",
    "            x_arr.append(i)\n",
    "            y_arr.append(j)\n",
    "        if(j>10):\n",
    "            j=0\n",
    "            break\n",
    "        j+=1\n",
    "    if(i>10):\n",
    "        break\n",
    "    i+=1\n",
    "print(x_arr)\n",
    "print(y_arr)"
   ]
  },
  {
   "cell_type": "code",
   "execution_count": 30,
   "id": "46da28ea",
   "metadata": {},
   "outputs": [
    {
     "name": "stdout",
     "output_type": "stream",
     "text": [
      "Please enter a number:7\n",
      "22 11 34 17 52 26 13 40 20 10 5 16 8 4 2 1 "
     ]
    }
   ],
   "source": [
    "# 29. collatz conjecture\n",
    "\n",
    "def collatz(n):\n",
    "    count = 0\n",
    "    while(1):\n",
    "        if(n%2==0):\n",
    "            n=n//2\n",
    "            print(n,end=\" \")\n",
    "        else:\n",
    "            n=int((3*n)+1)\n",
    "            print(n,end=\" \")\n",
    "        if(n==1 and count!=0):\n",
    "            break\n",
    "        count+=1\n",
    "        \n",
    "n = int(input(\"Please enter a number:\"))\n",
    "collatz(n)"
   ]
  },
  {
   "cell_type": "code",
   "execution_count": 31,
   "id": "9ec412f3",
   "metadata": {},
   "outputs": [
    {
     "name": "stdout",
     "output_type": "stream",
     "text": [
      "Number of words in the file: 4\n"
     ]
    }
   ],
   "source": [
    "# 30. file I/0\n",
    "\n",
    "import numpy as np\n",
    "\n",
    "file_path = \"file.txt\"\n",
    "data = np.loadtxt(file_path, dtype=str)\n",
    "text = ' '.join(data)\n",
    "words = text.split()\n",
    "print(\"Number of words in the file:\", len(words))\n"
   ]
  },
  {
   "cell_type": "code",
   "execution_count": null,
   "id": "703aaf38",
   "metadata": {},
   "outputs": [],
   "source": []
  }
 ],
 "metadata": {
  "kernelspec": {
   "display_name": "Python 3 (ipykernel)",
   "language": "python",
   "name": "python3"
  },
  "language_info": {
   "codemirror_mode": {
    "name": "ipython",
    "version": 3
   },
   "file_extension": ".py",
   "mimetype": "text/x-python",
   "name": "python",
   "nbconvert_exporter": "python",
   "pygments_lexer": "ipython3",
   "version": "3.10.11"
  }
 },
 "nbformat": 4,
 "nbformat_minor": 5
}
