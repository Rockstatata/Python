{
 "cells": [
  {
   "cell_type": "code",
   "execution_count": 2,
   "id": "ebe96507",
   "metadata": {},
   "outputs": [
    {
     "name": "stdout",
     "output_type": "stream",
     "text": [
      "10\n"
     ]
    }
   ],
   "source": [
    "# 1. A program that adds 33 and 77 and subtract 100 without the help of any variable\n",
    "\n",
    "print((33+77)-100)"
   ]
  },
  {
   "cell_type": "code",
   "execution_count": 8,
   "id": "f14981cc",
   "metadata": {},
   "outputs": [
    {
     "name": "stdout",
     "output_type": "stream",
     "text": [
      "Sum is:42\n",
      "Diff is:16\n",
      "Ratio is:13/29\n"
     ]
    }
   ],
   "source": [
    "# 2. Using basic arithmetic operations to find sum, difference and ratio of two variables\n",
    "\n",
    "from fractions import Fraction\n",
    "\n",
    "num1 = 13\n",
    "num2 = 29\n",
    "\n",
    "sum = num1+num2\n",
    "diff = abs(num1-num2)\n",
    "ratio = Fraction(num1,num2)\n",
    "\n",
    "print(f\"Sum is:{sum}\")\n",
    "print(f\"Diff is:{diff}\")\n",
    "print(f\"Ratio is:{ratio}\")\n",
    "\n"
   ]
  },
  {
   "cell_type": "code",
   "execution_count": 13,
   "id": "f114e7cc",
   "metadata": {},
   "outputs": [
    {
     "name": "stdout",
     "output_type": "stream",
     "text": [
      "Please enter a number:33\n",
      "Please enter a number:66\n",
      "Sum is:99\n",
      "Diff is:33\n",
      "Ratio is:1/2\n"
     ]
    }
   ],
   "source": [
    "# 3. A program that can have two numbers as input and print their sum, difference and ratio\n",
    "\n",
    "from fractions import Fraction  # imports the fraction function so we can calculate the ratio\n",
    "\n",
    "num1= int(input(\"Please enter a number:\")) # takes input of the number\n",
    "num2= int(input(\"Please enter a number:\")) # takes input of the number\n",
    "\n",
    "sum = num1+num2   # calculates the sum\n",
    "diff = abs(num1-num2) # calculates the absolute difference\n",
    "ratio = Fraction(num1,num2) # calculates the ratio\n",
    "\n",
    "print(f\"Sum is:{sum}\")  # prints the sum\n",
    "print(f\"Diff is:{diff}\") # prints the diff\n",
    "print(f\"Ratio is:{ratio}\") # prints the ratio"
   ]
  },
  {
   "cell_type": "code",
   "execution_count": 17,
   "id": "fd686f21",
   "metadata": {},
   "outputs": [
    {
     "name": "stdout",
     "output_type": "stream",
     "text": [
      "Please enter the radius of the circle:1\n",
      "The area of the circle is 3.141592653589793\n"
     ]
    }
   ],
   "source": [
    "# 4. This program will have the radius of the circle and print the area\n",
    "\n",
    "import math # imports the library where pi is located\n",
    "\n",
    "radius = float(input(\"Please enter the radius of the circle:\")) # take input from the user\n",
    "area = math.pi * pow(radius,2) # calculates the area using the formula\n",
    "\n",
    "print(f\"The area of the circle is {area}\") # prints the formula"
   ]
  },
  {
   "cell_type": "code",
   "execution_count": 22,
   "id": "81b5dc80",
   "metadata": {},
   "outputs": [
    {
     "name": "stdout",
     "output_type": "stream",
     "text": [
      "Please enter the temperature in Centigrade: 100\n",
      "Centigrade: 100.0 & Fahrenheit: 212.0\n"
     ]
    }
   ],
   "source": [
    "# 5. A program that converts Centigrade to Fahrenheit\n",
    "\n",
    "cent = float(input(\"Please enter the temperature in Centigrade: \")) # takes the input of the tempereature\n",
    "fahr = ((9 * cent )/ 5) + 32 # converts centigrade temperature to fahrenheit using their relation formula\n",
    "\n",
    "print(f\"Centigrade: {cent} & Fahrenheit: {fahr}\") # prints the results"
   ]
  },
  {
   "cell_type": "code",
   "execution_count": 24,
   "id": "5936c6f1",
   "metadata": {},
   "outputs": [
    {
     "name": "stdout",
     "output_type": "stream",
     "text": [
      "Please enter the radius of the sphere:1\n",
      "The volume of the sphere is 4.1887902047863905\n"
     ]
    }
   ],
   "source": [
    "# 6. A python program that calculates the volume of a sphere\n",
    "\n",
    "import math\n",
    "\n",
    "rad = float(input(\"Please enter the radius of the sphere:\"))\n",
    "volume = (4/3) * math.pi * pow(rad,3)\n",
    "\n",
    "print(f\"The volume of the sphere is {volume}\")\n"
   ]
  },
  {
   "cell_type": "code",
   "execution_count": 26,
   "id": "caf70343",
   "metadata": {},
   "outputs": [
    {
     "name": "stdout",
     "output_type": "stream",
     "text": [
      "Please enter the height of the rectangle:4\n",
      "Please enter the width of the rectangle:5\n",
      "The perimeter of the rectangle is 18.0\n",
      "The area of the rectangle is 20.0\n"
     ]
    }
   ],
   "source": [
    "# 7. Printing the perimeter and area of a rectangle using its height and width as inputs\n",
    "\n",
    "height = float(input(\"Please enter the height of the rectangle:\"))\n",
    "width = float(input(\"Please enter the width of the rectangle:\"))\n",
    "\n",
    "peri = 2*(height+width)\n",
    "area = height * width\n",
    "\n",
    "print(f\"The perimeter of the rectangle is {peri}\")\n",
    "print(f\"The area of the rectangle is {area}\")\n"
   ]
  },
  {
   "cell_type": "code",
   "execution_count": 27,
   "id": "5e0b5a6a",
   "metadata": {},
   "outputs": [
    {
     "name": "stdout",
     "output_type": "stream",
     "text": [
      "Please enter your name:sarwad\n",
      "Hi, sarwad. How may I help you?\n"
     ]
    }
   ],
   "source": [
    "# 8. A program that takes my name as input and greet me with Hi and ask me a question\n",
    "\n",
    "name = input(\"Please enter your name:\") # takes input of the name as a string\n",
    "print(f\"Hi, {name}. How may I help you?\") # prints the statement along with the name variable"
   ]
  },
  {
   "cell_type": "code",
   "execution_count": 29,
   "id": "d66ff908",
   "metadata": {},
   "outputs": [
    {
     "name": "stdout",
     "output_type": "stream",
     "text": [
      "Please enter your first name:Sarwad\n",
      "Please enter your last name:Hasan\n",
      "Your full name is: Sarwad Hasan\n"
     ]
    }
   ],
   "source": [
    "# 9. A program that takes first and last name as input and prints the full name\n",
    "\n",
    "first = input(\"Please enter your first name:\")\n",
    "last = input(\"Please enter your last name:\")\n",
    "\n",
    "print(f\"Your full name is: {first} {last}\")"
   ]
  }
 ],
 "metadata": {
  "kernelspec": {
   "display_name": "Python 3 (ipykernel)",
   "language": "python",
   "name": "python3"
  },
  "language_info": {
   "codemirror_mode": {
    "name": "ipython",
    "version": 3
   },
   "file_extension": ".py",
   "mimetype": "text/x-python",
   "name": "python",
   "nbconvert_exporter": "python",
   "pygments_lexer": "ipython3",
   "version": "3.10.11"
  }
 },
 "nbformat": 4,
 "nbformat_minor": 5
}
