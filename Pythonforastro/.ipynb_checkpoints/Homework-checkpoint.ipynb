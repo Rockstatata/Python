{
 "cells": [
  {
   "cell_type": "code",
   "execution_count": 4,
   "id": "7826b42d",
   "metadata": {},
   "outputs": [
    {
     "name": "stdout",
     "output_type": "stream",
     "text": [
      "Please enter the right ascension coordinates:\n",
      "Please enter the hours coordinate:23\n",
      "Please enter the minutes coordinate:12\n",
      "Please enter the seconds coordinate:06\n",
      "Please enter the declination coordinates:\n",
      "Please enter the degrees coordinate:73\n",
      "Please enter the minutes coordinate:21\n",
      "Please enter the seconds coordinate:14.4\n",
      "ascension is 345.35400000000004 and declination is 73.354\n"
     ]
    }
   ],
   "source": [
    "#this program turns celestial coordinates into degree coordinates\n",
    "\n",
    "def hms2deg(hours,minutes,seconds):\n",
    "    deg = (hours * 15) + (minutes / 60) + (seconds / 3600)\n",
    "    return deg\n",
    "\n",
    "def dms2deg(degrees,minutes,seconds):\n",
    "    deg = degrees + (minutes / 60) + (seconds / 3600)\n",
    "    return deg\n",
    "\n",
    "print(\"Please enter the right ascension coordinates:\")\n",
    "hours = float(input(\"Please enter the hours coordinate:\"))\n",
    "minutes = float(input(\"Please enter the minutes coordinate:\"))\n",
    "seconds = float(input(\"Please enter the seconds coordinate:\"))\n",
    "\n",
    "print(\"Please enter the declination coordinates:\")\n",
    "degrees = float(input(\"Please enter the degrees coordinate:\"))\n",
    "minutes = float(input(\"Please enter the minutes coordinate:\"))\n",
    "seconds = float(input(\"Please enter the seconds coordinate:\"))\n",
    "\n",
    "ascension= hms2deg(hours,minutes,seconds)\n",
    "declination= dms2deg(degrees,minutes,seconds)\n",
    "\n",
    "print(f\"ascension is {ascension} and declination is {declination}\")"
   ]
  },
  {
   "cell_type": "code",
   "execution_count": null,
   "id": "c37eb1c7",
   "metadata": {},
   "outputs": [],
   "source": [
    "#this program turns celestial coordinates into degree coordinates\n",
    "\n",
    "import math as m\n",
    "\n",
    "def hms2deg(hours,minutes,seconds): \n",
    "    deg = (hours * 15) + (minutes / 60) + (seconds / 3600) \n",
    "    return deg\n",
    "\n",
    "def dms2deg(degrees,minutes,seconds): \n",
    "    deg = degrees + (minutes / 60) + (seconds / 3600)  \n",
    "    return deg\n",
    "\n",
    "def angular_distance(ascension1,declination1,ascension2,declination2): \n",
    "    angdist = 2*m.asin(m.sqrt((m.sin((abs(declination1-declination2))/2))**2+(m.cos(declination1))*(m.cos(declination2))*(m.sin(abs(ascension1-ascension2)/2)**2)))\n",
    "    return angdist\n",
    "\n",
    "print(\"Please enter the first star's right ascension coordinates:\") \n",
    "hours1 = float(input(\"Please enter the hours coordinate:\")) \n",
    "minutes1 = float(input(\"Please enter the minutes coordinate:\")) \n",
    "seconds1 = float(input(\"Please enter the seconds coordinate:\"))\n",
    "\n",
    "print(\"Please enter the first star's declination coordinates:\") \n",
    "degrees1 = float(input(\"Please enter the degrees coordinate:\")) \n",
    "minutes2 = float(input(\"Please enter the minutes coordinate:\")) \n",
    "seconds2 = float(input(\"Please enter the seconds coordinate:\"))\n",
    "\n",
    "print(\"Please enter the second star's right ascension coordinates:\") \n",
    "hours2 = float(input(\"Please enter the hours coordinate:\")) \n",
    "minutes3 = float(input(\"Please enter the minutes coordinate:\")) \n",
    "seconds3 = float(input(\"Please enter the seconds coordinate:\"))\n",
    "\n",
    "print(\"Please enter the second star's declination coordinates:\") \n",
    "degrees2 = float(input(\"Please enter the degrees coordinate:\")) \n",
    "minutes4 = float(input(\"Please enter the minutes coordinate:\")) \n",
    "seconds4 = float(input(\"Please enter the seconds coordinate:\"))\n",
    "\n",
    "ascension1= hms2deg(hours1,minutes1,seconds1) \n",
    "declination1= dms2deg(degrees1,minutes2,seconds2) \n",
    "ascension2= hms2deg(hours2,minutes3,seconds3) \n",
    "declination2= dms2deg(degrees2,minutes4,seconds4)\n",
    "\n",
    "angdist = angular_distance(ascension1,declination1,ascension2,declination2)\n",
    "\n",
    "print(f\"the angular distance between two stars is {angdist}\")"
   ]
  },
  {
   "cell_type": "code",
   "execution_count": null,
   "id": "7ab24caf",
   "metadata": {},
   "outputs": [],
   "source": []
  }
 ],
 "metadata": {
  "kernelspec": {
   "display_name": "Python 3 (ipykernel)",
   "language": "python",
   "name": "python3"
  },
  "language_info": {
   "codemirror_mode": {
    "name": "ipython",
    "version": 3
   },
   "file_extension": ".py",
   "mimetype": "text/x-python",
   "name": "python",
   "nbconvert_exporter": "python",
   "pygments_lexer": "ipython3",
   "version": "3.10.11"
  }
 },
 "nbformat": 4,
 "nbformat_minor": 5
}
