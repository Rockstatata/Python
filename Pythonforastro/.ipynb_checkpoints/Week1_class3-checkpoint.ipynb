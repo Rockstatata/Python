{
 "cells": [
  {
   "cell_type": "code",
   "execution_count": 6,
   "id": "2b474336",
   "metadata": {},
   "outputs": [
    {
     "data": {
      "text/plain": [
       "1.8685390701338105"
      ]
     },
     "execution_count": 6,
     "metadata": {},
     "output_type": "execute_result"
    }
   ],
   "source": [
    "import numpy as np\n",
    "\n",
    "def hms(hour,minute,sec):\n",
    "    return 15*(hour+minute/60+sec/3600)\n",
    "\n",
    "def dms(degree,minute,sec):\n",
    "    if degree>=0:\n",
    "        return (degree+minute/60+sec/3600)\n",
    "    else:\n",
    "        return -(np.abs(degree)+minute/60+sec/3600)\n",
    "    \n",
    "\n",
    "alpha1 = hms(23,12,6)\n",
    "delta1 = dms(73,21,14.4)\n",
    "\n",
    "alpha2 = hms(2,2,2)\n",
    "delta2 = dms(-5,31,12)\n",
    "\n",
    "def angDist(alpha1,delta1,alpha2,delta2):\n",
    "    x = np.abs(delta1-delta2)/2\n",
    "    y = np.abs(alpha1-alpha2)/2\n",
    "    return 2*np.arcsin(np.sqrt(np.sin(x)**2+np.cos(delta1)*np.cos(delta2)*np.sin(y)**2))\n",
    "\n",
    "angDist(alpha1,delta1,alpha2,delta2)"
   ]
  },
  {
   "cell_type": "code",
   "execution_count": null,
   "id": "6299c49b",
   "metadata": {},
   "outputs": [],
   "source": []
  }
 ],
 "metadata": {
  "kernelspec": {
   "display_name": "Python 3 (ipykernel)",
   "language": "python",
   "name": "python3"
  },
  "language_info": {
   "codemirror_mode": {
    "name": "ipython",
    "version": 3
   },
   "file_extension": ".py",
   "mimetype": "text/x-python",
   "name": "python",
   "nbconvert_exporter": "python",
   "pygments_lexer": "ipython3",
   "version": "3.10.11"
  }
 },
 "nbformat": 4,
 "nbformat_minor": 5
}
