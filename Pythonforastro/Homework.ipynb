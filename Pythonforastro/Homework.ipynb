{
 "cells": [
  {
   "cell_type": "code",
   "execution_count": 1,
   "id": "7826b42d",
   "metadata": {},
   "outputs": [
    {
     "name": "stdout",
     "output_type": "stream",
     "text": [
      "Please enter the right ascension coordinates:\n"
     ]
    },
    {
     "ename": "KeyboardInterrupt",
     "evalue": "Interrupted by user",
     "output_type": "error",
     "traceback": [
      "\u001b[1;31m---------------------------------------------------------------------------\u001b[0m",
      "\u001b[1;31mKeyboardInterrupt\u001b[0m                         Traceback (most recent call last)",
      "Cell \u001b[1;32mIn[1], line 12\u001b[0m\n\u001b[0;32m      9\u001b[0m     \u001b[38;5;28;01mreturn\u001b[39;00m deg\n\u001b[0;32m     11\u001b[0m \u001b[38;5;28mprint\u001b[39m(\u001b[38;5;124m\"\u001b[39m\u001b[38;5;124mPlease enter the right ascension coordinates:\u001b[39m\u001b[38;5;124m\"\u001b[39m)\n\u001b[1;32m---> 12\u001b[0m hours \u001b[38;5;241m=\u001b[39m \u001b[38;5;28mfloat\u001b[39m(\u001b[38;5;28;43minput\u001b[39;49m\u001b[43m(\u001b[49m\u001b[38;5;124;43m\"\u001b[39;49m\u001b[38;5;124;43mPlease enter the hours coordinate:\u001b[39;49m\u001b[38;5;124;43m\"\u001b[39;49m\u001b[43m)\u001b[49m)\n\u001b[0;32m     13\u001b[0m minutes \u001b[38;5;241m=\u001b[39m \u001b[38;5;28mfloat\u001b[39m(\u001b[38;5;28minput\u001b[39m(\u001b[38;5;124m\"\u001b[39m\u001b[38;5;124mPlease enter the minutes coordinate:\u001b[39m\u001b[38;5;124m\"\u001b[39m))\n\u001b[0;32m     14\u001b[0m seconds \u001b[38;5;241m=\u001b[39m \u001b[38;5;28mfloat\u001b[39m(\u001b[38;5;28minput\u001b[39m(\u001b[38;5;124m\"\u001b[39m\u001b[38;5;124mPlease enter the seconds coordinate:\u001b[39m\u001b[38;5;124m\"\u001b[39m))\n",
      "File \u001b[1;32m~\\AppData\\Local\\Packages\\PythonSoftwareFoundation.Python.3.10_qbz5n2kfra8p0\\LocalCache\\local-packages\\Python310\\site-packages\\ipykernel\\kernelbase.py:1191\u001b[0m, in \u001b[0;36mKernel.raw_input\u001b[1;34m(self, prompt)\u001b[0m\n\u001b[0;32m   1189\u001b[0m     msg \u001b[38;5;241m=\u001b[39m \u001b[38;5;124m\"\u001b[39m\u001b[38;5;124mraw_input was called, but this frontend does not support input requests.\u001b[39m\u001b[38;5;124m\"\u001b[39m\n\u001b[0;32m   1190\u001b[0m     \u001b[38;5;28;01mraise\u001b[39;00m StdinNotImplementedError(msg)\n\u001b[1;32m-> 1191\u001b[0m \u001b[38;5;28;01mreturn\u001b[39;00m \u001b[38;5;28;43mself\u001b[39;49m\u001b[38;5;241;43m.\u001b[39;49m\u001b[43m_input_request\u001b[49m\u001b[43m(\u001b[49m\n\u001b[0;32m   1192\u001b[0m \u001b[43m    \u001b[49m\u001b[38;5;28;43mstr\u001b[39;49m\u001b[43m(\u001b[49m\u001b[43mprompt\u001b[49m\u001b[43m)\u001b[49m\u001b[43m,\u001b[49m\n\u001b[0;32m   1193\u001b[0m \u001b[43m    \u001b[49m\u001b[38;5;28;43mself\u001b[39;49m\u001b[38;5;241;43m.\u001b[39;49m\u001b[43m_parent_ident\u001b[49m\u001b[43m[\u001b[49m\u001b[38;5;124;43m\"\u001b[39;49m\u001b[38;5;124;43mshell\u001b[39;49m\u001b[38;5;124;43m\"\u001b[39;49m\u001b[43m]\u001b[49m\u001b[43m,\u001b[49m\n\u001b[0;32m   1194\u001b[0m \u001b[43m    \u001b[49m\u001b[38;5;28;43mself\u001b[39;49m\u001b[38;5;241;43m.\u001b[39;49m\u001b[43mget_parent\u001b[49m\u001b[43m(\u001b[49m\u001b[38;5;124;43m\"\u001b[39;49m\u001b[38;5;124;43mshell\u001b[39;49m\u001b[38;5;124;43m\"\u001b[39;49m\u001b[43m)\u001b[49m\u001b[43m,\u001b[49m\n\u001b[0;32m   1195\u001b[0m \u001b[43m    \u001b[49m\u001b[43mpassword\u001b[49m\u001b[38;5;241;43m=\u001b[39;49m\u001b[38;5;28;43;01mFalse\u001b[39;49;00m\u001b[43m,\u001b[49m\n\u001b[0;32m   1196\u001b[0m \u001b[43m\u001b[49m\u001b[43m)\u001b[49m\n",
      "File \u001b[1;32m~\\AppData\\Local\\Packages\\PythonSoftwareFoundation.Python.3.10_qbz5n2kfra8p0\\LocalCache\\local-packages\\Python310\\site-packages\\ipykernel\\kernelbase.py:1234\u001b[0m, in \u001b[0;36mKernel._input_request\u001b[1;34m(self, prompt, ident, parent, password)\u001b[0m\n\u001b[0;32m   1231\u001b[0m \u001b[38;5;28;01mexcept\u001b[39;00m \u001b[38;5;167;01mKeyboardInterrupt\u001b[39;00m:\n\u001b[0;32m   1232\u001b[0m     \u001b[38;5;66;03m# re-raise KeyboardInterrupt, to truncate traceback\u001b[39;00m\n\u001b[0;32m   1233\u001b[0m     msg \u001b[38;5;241m=\u001b[39m \u001b[38;5;124m\"\u001b[39m\u001b[38;5;124mInterrupted by user\u001b[39m\u001b[38;5;124m\"\u001b[39m\n\u001b[1;32m-> 1234\u001b[0m     \u001b[38;5;28;01mraise\u001b[39;00m \u001b[38;5;167;01mKeyboardInterrupt\u001b[39;00m(msg) \u001b[38;5;28;01mfrom\u001b[39;00m \u001b[38;5;28;01mNone\u001b[39;00m\n\u001b[0;32m   1235\u001b[0m \u001b[38;5;28;01mexcept\u001b[39;00m \u001b[38;5;167;01mException\u001b[39;00m:\n\u001b[0;32m   1236\u001b[0m     \u001b[38;5;28mself\u001b[39m\u001b[38;5;241m.\u001b[39mlog\u001b[38;5;241m.\u001b[39mwarning(\u001b[38;5;124m\"\u001b[39m\u001b[38;5;124mInvalid Message:\u001b[39m\u001b[38;5;124m\"\u001b[39m, exc_info\u001b[38;5;241m=\u001b[39m\u001b[38;5;28;01mTrue\u001b[39;00m)\n",
      "\u001b[1;31mKeyboardInterrupt\u001b[0m: Interrupted by user"
     ]
    },
    {
     "name": "stdout",
     "output_type": "stream",
     "text": [
      "Please enter the hours coordinate:2\n"
     ]
    }
   ],
   "source": [
    "#this program turns celestial coordinates into degree coordinates\n",
    "\n",
    "def hms2deg(hours,minutes,seconds):\n",
    "    deg = (hours * 15) + (minutes / 60) + (seconds / 3600)\n",
    "    return deg\n",
    "\n",
    "def dms2deg(degrees,minutes,seconds):\n",
    "    deg = degrees + (minutes / 60) + (seconds / 3600)\n",
    "    return deg\n",
    "\n",
    "print(\"Please enter the right ascension coordinates:\")\n",
    "hours = float(input(\"Please enter the hours coordinate:\"))\n",
    "minutes = float(input(\"Please enter the minutes coordinate:\"))\n",
    "seconds = float(input(\"Please enter the seconds coordinate:\"))\n",
    "\n",
    "print(\"Please enter the declination coordinates:\")\n",
    "degrees = float(input(\"Please enter the degrees coordinate:\"))\n",
    "minutes = float(input(\"Please enter the minutes coordinate:\"))\n",
    "seconds = float(input(\"Please enter the seconds coordinate:\"))\n",
    "\n",
    "ascension= hms2deg(hours,minutes,seconds)\n",
    "declination= dms2deg(degrees,minutes,seconds)\n",
    "\n",
    "print(f\"ascension is {ascension} and declination is {declination}\")"
   ]
  },
  {
   "cell_type": "code",
   "execution_count": 1,
   "id": "c37eb1c7",
   "metadata": {},
   "outputs": [
    {
     "name": "stdout",
     "output_type": "stream",
     "text": [
      "Please enter the first star's right ascension coordinates:\n",
      "Please enter the hours coordinate:5\n",
      "Please enter the minutes coordinate:55\n",
      "Please enter the seconds coordinate:10\n",
      "Please enter the first star's declination coordinates:\n",
      "Please enter the degrees coordinate:7\n",
      "Please enter the minutes coordinate:24\n",
      "Please enter the seconds coordinate:26\n",
      "Please enter the second star's right ascension coordinates:\n",
      "Please enter the hours coordinate:6\n",
      "Please enter the minutes coordinate:45\n",
      "Please enter the seconds coordinate:8.9\n",
      "Please enter the second star's declination coordinates:\n",
      "Please enter the degrees coordinate:-16\n",
      "Please enter the minutes coordinate:42\n",
      "Please enter the seconds coordinate:58\n",
      "the angular distance between two stars is 1.6897403643442659\n"
     ]
    }
   ],
   "source": [
    "#this program turns celestial coordinates into degree coordinates\n",
    "\n",
    "import math as m\n",
    "\n",
    "def hms2deg(hours,minutes,seconds): \n",
    "    deg = (hours * 15) + (minutes / 60) + (seconds / 3600) \n",
    "    return deg\n",
    "\n",
    "def dms2deg(degrees,minutes,seconds): \n",
    "    deg = degrees + (minutes / 60) + (seconds / 3600)  \n",
    "    return deg\n",
    "\n",
    "def angular_distance(ascension1,declination1,ascension2,declination2): \n",
    "    angdist = 2*m.asin(m.sqrt((m.sin((abs(declination1-declination2))/2))**2+(m.cos(declination1))*(m.cos(declination2))*(m.sin(abs(ascension1-ascension2)/2)**2)))\n",
    "    return angdist\n",
    "\n",
    "print(\"Please enter the first star's right ascension coordinates:\") \n",
    "hours1 = float(input(\"Please enter the hours coordinate:\")) \n",
    "minutes1 = float(input(\"Please enter the minutes coordinate:\")) \n",
    "seconds1 = float(input(\"Please enter the seconds coordinate:\"))\n",
    "\n",
    "print(\"Please enter the first star's declination coordinates:\") \n",
    "degrees1 = float(input(\"Please enter the degrees coordinate:\")) \n",
    "minutes2 = float(input(\"Please enter the minutes coordinate:\")) \n",
    "seconds2 = float(input(\"Please enter the seconds coordinate:\"))\n",
    "\n",
    "print(\"Please enter the second star's right ascension coordinates:\") \n",
    "hours2 = float(input(\"Please enter the hours coordinate:\")) \n",
    "minutes3 = float(input(\"Please enter the minutes coordinate:\")) \n",
    "seconds3 = float(input(\"Please enter the seconds coordinate:\"))\n",
    "\n",
    "print(\"Please enter the second star's declination coordinates:\") \n",
    "degrees2 = float(input(\"Please enter the degrees coordinate:\")) \n",
    "minutes4 = float(input(\"Please enter the minutes coordinate:\")) \n",
    "seconds4 = float(input(\"Please enter the seconds coordinate:\"))\n",
    "\n",
    "ascension1= hms2deg(hours1,minutes1,seconds1) \n",
    "declination1= dms2deg(degrees1,minutes2,seconds2) \n",
    "ascension2= hms2deg(hours2,minutes3,seconds3) \n",
    "declination2= dms2deg(degrees2,minutes4,seconds4)\n",
    "\n",
    "angdist = angular_distance(ascension1,declination1,ascension2,declination2)\n",
    "\n",
    "print(f\"the angular distance between two stars is {angdist}\")"
   ]
  },
  {
   "cell_type": "code",
   "execution_count": null,
   "id": "7ab24caf",
   "metadata": {},
   "outputs": [],
   "source": []
  }
 ],
 "metadata": {
  "kernelspec": {
   "display_name": "Python 3 (ipykernel)",
   "language": "python",
   "name": "python3"
  },
  "language_info": {
   "codemirror_mode": {
    "name": "ipython",
    "version": 3
   },
   "file_extension": ".py",
   "mimetype": "text/x-python",
   "name": "python",
   "nbconvert_exporter": "python",
   "pygments_lexer": "ipython3",
   "version": "3.10.11"
  }
 },
 "nbformat": 4,
 "nbformat_minor": 5
}
